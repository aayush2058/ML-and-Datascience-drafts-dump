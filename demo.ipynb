{
 "cells": [
  {
   "cell_type": "markdown",
   "id": "33131324",
   "metadata": {},
   "source": [
    "# hello"
   ]
  },
  {
   "cell_type": "code",
   "execution_count": 6,
   "id": "27278429",
   "metadata": {},
   "outputs": [],
   "source": [
    "import pandas as pd\n",
    "import matplotlib as plt"
   ]
  },
  {
   "cell_type": "markdown",
   "id": "42adc15e",
   "metadata": {},
   "source": [
    "![](coupon3$.png)"
   ]
  },
  {
   "cell_type": "markdown",
   "id": "1a0ca82d",
   "metadata": {},
   "source": [
    "## Problem defination"
   ]
  },
  {
   "cell_type": "markdown",
   "id": "3e8e7844",
   "metadata": {},
   "source": [
    "![](panda.png)"
   ]
  },
  {
   "cell_type": "code",
   "execution_count": 8,
   "id": "e7c04022",
   "metadata": {},
   "outputs": [
    {
     "name": "stdout",
     "output_type": "stream",
     "text": [
      " Volume in drive C has no label.\n",
      " Volume Serial Number is 6EF4-518E\n",
      "\n",
      " Directory of C:\\Users\\User\\Desktop\\sample_project1\n",
      "\n",
      "02/21/2023  05:53 PM    <DIR>          .\n",
      "02/20/2023  07:23 AM    <DIR>          ..\n",
      "02/19/2023  10:41 PM    <DIR>          .ipynb_checkpoints\n",
      "02/19/2023  10:23 PM           563,421 car-photo.png\n",
      "02/16/2023  02:25 PM               369 car-sales.csv\n",
      "02/16/2023  03:29 PM               287 car-sales-missing-data.csv\n",
      "02/15/2023  02:24 PM           447,766 coupon3$.png\n",
      "02/15/2023  02:38 PM             2,029 demo.ipynb\n",
      "02/15/2023  12:54 PM    <DIR>          env\n",
      "02/18/2023  02:35 PM               371 export_car_222222_delete\n",
      "02/18/2023  12:52 PM               371 export-car-sales.csv\n",
      "02/19/2023  10:32 PM           132,823 Introduction to numpy.ipynb\n",
      "02/21/2023  05:53 PM            29,592 numpy-exercises.ipynb\n",
      "02/19/2023  10:21 PM         6,559,806 panda.png\n",
      "02/18/2023  08:02 PM           216,730 pandas.ipynb\n",
      "02/18/2023  08:36 PM           116,403 pandas-exercises.ipynb\n",
      "              12 File(s)      8,069,968 bytes\n",
      "               4 Dir(s)  15,071,174,656 bytes free\n"
     ]
    }
   ],
   "source": [
    "ls"
   ]
  },
  {
   "cell_type": "code",
   "execution_count": null,
   "id": "c5648ef5",
   "metadata": {},
   "outputs": [],
   "source": []
  }
 ],
 "metadata": {
  "kernelspec": {
   "display_name": "Python 3 (ipykernel)",
   "language": "python",
   "name": "python3"
  },
  "language_info": {
   "codemirror_mode": {
    "name": "ipython",
    "version": 3
   },
   "file_extension": ".py",
   "mimetype": "text/x-python",
   "name": "python",
   "nbconvert_exporter": "python",
   "pygments_lexer": "ipython3",
   "version": "3.9.13"
  }
 },
 "nbformat": 4,
 "nbformat_minor": 5
}
